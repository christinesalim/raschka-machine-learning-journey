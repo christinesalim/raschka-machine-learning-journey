{
 "cells": [
  {
   "cell_type": "markdown",
   "metadata": {},
   "source": [
    "# Chapter 2: Training Basics - Book Examples\n",
    "\n",
    "Examples and code snippets from the book"
   ]
  },
  {
   "cell_type": "markdown",
   "metadata": {},
   "source": [
    "## Package version checks"
   ]
  },
  {
   "cell_type": "markdown",
   "metadata": {},
   "source": []
  },
  {
   "cell_type": "code",
   "execution_count": 42,
   "metadata": {},
   "outputs": [],
   "source": [
    "import sys\n",
    "sys.path.insert(0,'..')"
   ]
  },
  {
   "cell_type": "code",
   "execution_count": 43,
   "metadata": {},
   "outputs": [],
   "source": [
    "# Import statements\n",
    "import numpy as np\n",
    "import pandas as pd\n",
    "import matplotlib.pyplot as plt\n",
    "import seaborn as sns\n",
    "\n",
    "# Set up plotting\n",
    "plt.style.use('default')\n",
    "sns.set_palette(\"husl\")"
   ]
  },
  {
   "cell_type": "code",
   "execution_count": 44,
   "metadata": {},
   "outputs": [
    {
     "name": "stdout",
     "output_type": "stream",
     "text": [
      "Python path: /opt/anaconda3/envs/raschka-ml/bin/python\n"
     ]
    }
   ],
   "source": [
    "import sys\n",
    "print(\"Python path:\", sys.executable)"
   ]
  },
  {
   "cell_type": "markdown",
   "metadata": {},
   "source": [
    "## Book Examples\n",
    "\n",
    "Add your book examples here as you work through the chapter."
   ]
  },
  {
   "cell_type": "code",
   "execution_count": 45,
   "metadata": {},
   "outputs": [
    {
     "name": "stdout",
     "output_type": "stream",
     "text": [
      "[OK] numpy 1.21.2\n",
      "[OK] matplotlib 3.4.3\n",
      "[OK] pandas 1.3.2\n"
     ]
    }
   ],
   "source": [
    "from python_environment_check import check_packages\n",
    "\n",
    "\n",
    "d = {\n",
    "    'numpy': '1.21.2',\n",
    "    'matplotlib': '3.4.3',\n",
    "    'pandas': '1.3.2'\n",
    "}\n",
    "check_packages(d)"
   ]
  },
  {
   "cell_type": "code",
   "execution_count": 46,
   "metadata": {},
   "outputs": [],
   "source": [
    "import numpy as np\n",
    "class Perceptron:\n",
    "  \"\"\"Perceptron classifier.\n",
    "  \n",
    "  \n",
    "  Parameters\n",
    "  ----------\n",
    "  eta : float\n",
    "      Learning rate (between 0.0 and 1.0)\n",
    "  n_iter : int\n",
    "      Passes over the training dataset. Also known as epochs.\n",
    "  random_state : int\n",
    "      Random number generator seed for random weight initialization.\n",
    "  \n",
    "  \n",
    "  Attributes\n",
    "  ----------\n",
    "  w_ : 1d-array\n",
    "      Weights after fitting.    \n",
    "  errors_ : list\n",
    "      Number of misclassifications (updates) in each epoch.\n",
    "  b_ : Scalar\n",
    "      Bias unit after fitting.\n",
    "          \n",
    "  \"\"\"\n",
    "  \n",
    "  \n",
    "  \n",
    "  def __init__(self, eta=0.01, n_iter=50, random_state=1):\n",
    "    self.eta = eta\n",
    "    self.n_iter = n_iter\n",
    "    self.random_state = random_state\n",
    "    \n",
    "    \n",
    "  def fit(self, X, y):\n",
    "    \"\"\"Fit training data.\n",
    "    \n",
    "    Parameters\n",
    "    ----------\n",
    "    X : {array-like}, shape = [n_samples, n_features]\n",
    "        Training vectors, where n_samples is the number of samples and\n",
    "        n_features is the number of features.\n",
    "    y : array-like, shape = [n_samples]\n",
    "        Target values.\n",
    "        \n",
    "    Returns\n",
    "    -------\n",
    "    self : object\n",
    "    \n",
    "    \"\"\"\n",
    "    \n",
    "    rgen = np.random.RandomState(self.random_state)\n",
    "    self.w_ = rgen.normal(loc=0.0, scale=0.01, size=X.shape[1])\n",
    "    self.b_ = np.float_(0.)\n",
    "    self.errors_ = []\n",
    "    \n",
    "    for _ in range(self.n_iter):\n",
    "      errors = 0\n",
    "      for xi, target in zip(X, y):\n",
    "        update = self.eta * (target - self.predict(xi))\n",
    "        self.w_ += update * xi\n",
    "        self.b_ += update\n",
    "        errors += int(update != 0.0)\n",
    "      self.errors_.append(errors) #missclassifications are collected\n",
    "    return self\n",
    "  \n",
    "  def net_input(self, X):\n",
    "    \"\"\"Calculate net input\"\"\"\n",
    "    return np.dot(X, self.w_) + self.b_\n",
    "  \n",
    "  def predict(self, X):\n",
    "    \"\"\"Return class label after unit step\"\"\"\n",
    "    return np.where(self.net_input(X) >= 0.0, 1, -1)\n",
    "  "
   ]
  },
  {
   "cell_type": "code",
   "execution_count": 47,
   "metadata": {},
   "outputs": [
    {
     "name": "stdout",
     "output_type": "stream",
     "text": [
      "From URL: https://archive.ics.uci.edu/ml/machine-learning-databases/iris/iris.data\n"
     ]
    },
    {
     "data": {
      "text/html": [
       "<div>\n",
       "<style scoped>\n",
       "    .dataframe tbody tr th:only-of-type {\n",
       "        vertical-align: middle;\n",
       "    }\n",
       "\n",
       "    .dataframe tbody tr th {\n",
       "        vertical-align: top;\n",
       "    }\n",
       "\n",
       "    .dataframe thead th {\n",
       "        text-align: right;\n",
       "    }\n",
       "</style>\n",
       "<table border=\"1\" class=\"dataframe\">\n",
       "  <thead>\n",
       "    <tr style=\"text-align: right;\">\n",
       "      <th></th>\n",
       "      <th>0</th>\n",
       "      <th>1</th>\n",
       "      <th>2</th>\n",
       "      <th>3</th>\n",
       "      <th>4</th>\n",
       "    </tr>\n",
       "  </thead>\n",
       "  <tbody>\n",
       "    <tr>\n",
       "      <th>145</th>\n",
       "      <td>6.7</td>\n",
       "      <td>3.0</td>\n",
       "      <td>5.2</td>\n",
       "      <td>2.3</td>\n",
       "      <td>Iris-virginica</td>\n",
       "    </tr>\n",
       "    <tr>\n",
       "      <th>146</th>\n",
       "      <td>6.3</td>\n",
       "      <td>2.5</td>\n",
       "      <td>5.0</td>\n",
       "      <td>1.9</td>\n",
       "      <td>Iris-virginica</td>\n",
       "    </tr>\n",
       "    <tr>\n",
       "      <th>147</th>\n",
       "      <td>6.5</td>\n",
       "      <td>3.0</td>\n",
       "      <td>5.2</td>\n",
       "      <td>2.0</td>\n",
       "      <td>Iris-virginica</td>\n",
       "    </tr>\n",
       "    <tr>\n",
       "      <th>148</th>\n",
       "      <td>6.2</td>\n",
       "      <td>3.4</td>\n",
       "      <td>5.4</td>\n",
       "      <td>2.3</td>\n",
       "      <td>Iris-virginica</td>\n",
       "    </tr>\n",
       "    <tr>\n",
       "      <th>149</th>\n",
       "      <td>5.9</td>\n",
       "      <td>3.0</td>\n",
       "      <td>5.1</td>\n",
       "      <td>1.8</td>\n",
       "      <td>Iris-virginica</td>\n",
       "    </tr>\n",
       "  </tbody>\n",
       "</table>\n",
       "</div>"
      ],
      "text/plain": [
       "       0    1    2    3               4\n",
       "145  6.7  3.0  5.2  2.3  Iris-virginica\n",
       "146  6.3  2.5  5.0  1.9  Iris-virginica\n",
       "147  6.5  3.0  5.2  2.0  Iris-virginica\n",
       "148  6.2  3.4  5.4  2.3  Iris-virginica\n",
       "149  5.9  3.0  5.1  1.8  Iris-virginica"
      ]
     },
     "execution_count": 47,
     "metadata": {},
     "output_type": "execute_result"
    }
   ],
   "source": [
    "import os\n",
    "import pandas as pd\n",
    "from urllib.error import HTTPError\n",
    "\n",
    "try:\n",
    "    s = 'https://archive.ics.uci.edu/ml/machine-learning-databases/iris/iris.data'\n",
    "    print('From URL:', s)\n",
    "    df = pd.read_csv(s, header=None, encoding='utf-8')\n",
    "except HTTPError:\n",
    "    s = 'iris.data'\n",
    "    print('From local Iris path:', s)\n",
    "    df = pd.read_csv(s, header=None, encoding='utf-8')\n",
    "\n",
    "df.tail()\n"
   ]
  },
  {
   "cell_type": "code",
   "execution_count": 48,
   "metadata": {},
   "outputs": [
    {
     "data": {
      "image/png": "[encoded data removed]",
      "text/plain": [
       "<Figure size 640x480 with 1 Axes>"
      ]
     },
     "metadata": {},
     "output_type": "display_data"
    }
   ],
   "source": [
    "import matplotlib.pyplot as plt\n",
    "import numpy as np\n",
    "\n",
    "#select setosa and versicolor\n",
    "y = df.iloc[0:100, 4].values #name of iris\n",
    "y = np.where(y == 'Iris-setosa', -1, 1)\n",
    "#extract sepal length and petal length\n",
    "X = df.iloc[0:100, [0,2]].values\n",
    "plt.scatter(X[:50,0], X[:50,1], color='red', marker='o', label='Setosa')\n",
    "plt.scatter(X[50:100, 0], X[50:100,1], color='blue', marker='s', label='Versicolor')\n",
    "plt.xlabel('Sepal length [cm]')\n",
    "plt.ylabel('Petal length [cm]')\n",
    "plt.legend(loc='upper left')\n",
    "plt.show()\n",
    "\n"
   ]
  },
  {
   "cell_type": "markdown",
   "metadata": {},
   "source": [
    "I had to adjust the np.where (y == 'Iris-setosa', -1, 1) to use -1 and 1. When I used 0,1 in the where() call, the perceptron was not converging. \n",
    "\n",
    "With using labels from book's example: (0, +1):\n",
    "  - When actual=0, predicted=+1: update = 0.1 × (0 - 1) = -0.1 ✓\n",
    "  - When actual=+1, predicted=+1: update = 0.1 × (1 - 1) = 0 ✓\n",
    "  - When actual=0, predicted=-1: update = 0.1 × (0 - (-1)) = +0.1 ✓\n",
    "  - When actual=+1, predicted=-1: update = 0.1 × (1 - (-1)) = +0.2\n",
    "  \n",
    "The missing symmetry for the last case was causing an issue. Changing the where() to use -1 and 1 fixed the convergence."
   ]
  },
  {
   "cell_type": "markdown",
   "metadata": {},
   "source": [
    "## Training the perceptron model"
   ]
  },
  {
   "cell_type": "code",
   "execution_count": 49,
   "metadata": {},
   "outputs": [
    {
     "data": {
      "image/png": "[encoded data removed]",
      "text/plain": [
       "<Figure size 640x480 with 1 Axes>"
      ]
     },
     "metadata": {},
     "output_type": "display_data"
    }
   ],
   "source": [
    "ppn = Perceptron(eta=0.1, n_iter=10)\n",
    "\n",
    "ppn.fit(X, y)\n",
    "\n",
    "plt.plot(range(1, len(ppn.errors_) + 1), ppn.errors_, marker='o')\n",
    "plt.xlabel('Epochs')\n",
    "plt.ylabel('Number of updates')\n",
    "\n",
    "# plt.savefig('images/02_07.png', dpi=300)\n",
    "plt.show()"
   ]
  },
  {
   "cell_type": "markdown",
   "metadata": {},
   "source": [
    "## A function for plotting decision regions"
   ]
  },
  {
   "cell_type": "code",
   "execution_count": 50,
   "metadata": {},
   "outputs": [],
   "source": [
    "from matplotlib.colors import ListedColormap\n",
    "\n",
    "def plot_decision_regions(X, y, classifier, resolution=0.2):\n",
    "  \n",
    "  markers = ('o', 's', '^', 'v', '<')\n",
    "  colors = ('red', 'blue', 'lightgreen', 'gray', 'cyan')\n",
    "  cmap = ListedColormap(colors[:len(np.unique(y))])\n",
    "  \n",
    "  x1_min, x1_max = X[:, 0].min() - 1, X[:, 0].max() + 1\n",
    "  x2_min, x2_max = X[:, 1].min() - 1, X[:, 1].max() + 1\n",
    "  xx1, xx2 = np.meshgrid(np.arange(x1_min, x1_max, resolution),\n",
    "                         np.arange(x2_min, x2_max, resolution))\n",
    "  lab = classifier.predict(np.array([xx1.ravel(), xx2.ravel()]).T)\n",
    "  lab = lab.reshape(xx1.shape)\n",
    "  plt.contourf(xx1, xx2, lab, alpha=0.3, cmap=cmap)\n",
    "  plt.xlim(xx1.min(), xx1.max())\n",
    "  plt.ylim(xx2.min(), xx2.max())\n",
    "  \n",
    "  for idx, cl in enumerate(np.unique(y)):\n",
    "    plt.scatter(x=X[ y == cl, 0],\n",
    "                y=X[y == cl, 1],\n",
    "                alpha=0.8,\n",
    "                c=colors[idx],\n",
    "                marker=markers[idx],\n",
    "                label=f'Class{cl}',\n",
    "                edgecolor='black')\n",
    "  "
   ]
  },
  {
   "cell_type": "code",
   "execution_count": 51,
   "metadata": {},
   "outputs": [
    {
     "data": {
      "image/png": "[encoded data removed]",
      "text/plain": [
       "<Figure size 640x480 with 1 Axes>"
      ]
     },
     "metadata": {},
     "output_type": "display_data"
    }
   ],
   "source": [
    "plot_decision_regions(X, y, classifier=ppn)\n",
    "plt.xlabel('Sepal length [cm]')\n",
    "plt.ylabel('Petal length [cm]')\n",
    "plt.legend(loc='upper left')\n",
    "\n",
    "plt.show()"
   ]
  },
  {
   "cell_type": "markdown",
   "metadata": {},
   "source": [
    "# Plotting Explanation\n",
    "\n",
    "  ## The Big Picture\n",
    "\n",
    "  We want to create a plot that shows:\n",
    "  1. **Background colors** = what the perceptron would predict for ANY point\n",
    "  2. **Decision boundary** = the line where predictions change from one class to another\n",
    "  3. **Actual data points** = your training data on top\n",
    "\n",
    "  ---\n",
    "\n",
    "  ## Step 1: Create a Grid of Test Points\n",
    "\n",
    "  Think of this like creating a fine mesh or net over your entire plot area:\n",
    "\n",
    "  ```python\n",
    "  # Let's say your data ranges from:\n",
    "  # Sepal length: 4.0 to 7.0\n",
    "  # Petal length: 1.0 to 5.0\n",
    "\n",
    "  x1_min, x1_max = 4.0, 7.0  # Sepal length range (with padding)\n",
    "  x2_min, x2_max = 1.0, 5.0  # Petal length range (with padding)\n",
    "\n",
    "  # Create arrays of evenly spaced points\n",
    "  x1_points = [4.0, 4.2, 4.4, 4.6, 4.8, 5.0, ...]  # Every 0.2 units\n",
    "  x2_points = [1.0, 1.2, 1.4, 1.6, 1.8, 2.0, ...]  # Every 0.2 units\n",
    "\n",
    "  # np.meshgrid creates ALL COMBINATIONS of these points\n",
    "  xx1, xx2 = np.meshgrid(x1_points, x2_points)\n",
    "\n",
    "  What meshgrid does: Creates two grids where every (i,j) position represents one test\n",
    "  point:\n",
    "\n",
    "  # If x1_points = [4.0, 4.2, 4.4] and x2_points = [1.0, 1.2, 1.4]\n",
    "\n",
    "  xx1 = [[4.0, 4.2, 4.4],    # Row 0: sepal length values\n",
    "         [4.0, 4.2, 4.4],    # Row 1: same sepal length values  \n",
    "         [4.0, 4.2, 4.4]]    # Row 2: same sepal length values\n",
    "\n",
    "  xx2 = [[1.0, 1.0, 1.0],    # Row 0: petal length = 1.0 for all\n",
    "         [1.2, 1.2, 1.2],    # Row 1: petal length = 1.2 for all\n",
    "         [1.4, 1.4, 1.4]]    # Row 2: petal length = 1.4 for all\n",
    "\n",
    "  The test points are:\n",
    "  - Position (0,0): sepal=4.0, petal=1.0\n",
    "  - Position (0,1): sepal=4.2, petal=1.0\n",
    "  - Position (0,2): sepal=4.4, petal=1.0\n",
    "  - Position (1,0): sepal=4.0, petal=1.2\n",
    "  - ...and so on\n",
    "\n",
    "  ---\n",
    "  Step 2: Convert Grid to List of Points\n",
    "\n",
    "  # Flatten the grids into 1D arrays\n",
    "  xx1_flat = xx1.ravel()  # [4.0, 4.2, 4.4, 4.0, 4.2, 4.4, 4.0, 4.2, 4.4]\n",
    "  xx2_flat = xx2.ravel()  # [1.0, 1.0, 1.0, 1.2, 1.2, 1.2, 1.4, 1.4, 1.4]\n",
    "\n",
    "  # Stack them vertically then transpose\n",
    "  points_array = np.array([xx1_flat, xx2_flat]).T\n",
    "\n",
    "  # Result: each row is one test point [sepal_length, petal_length]\n",
    "  points_array = [[4.0, 1.0],  # Test point 1\n",
    "                  [4.2, 1.0],  # Test point 2\n",
    "                  [4.4, 1.0],  # Test point 3\n",
    "                  [4.0, 1.2],  # Test point 4\n",
    "                  [4.2, 1.2],  # Test point 5\n",
    "                  [4.4, 1.2],  # Test point 6\n",
    "                  [4.0, 1.4],  # Test point 7\n",
    "                  [4.2, 1.4],  # Test point 8\n",
    "                  [4.4, 1.4]]  # Test point 9\n",
    "\n",
    "  ---\n",
    "  Step 3: Get Predictions for All Test Points\n",
    "\n",
    "  # Ask the perceptron: \"What class would you predict for each test point?\"\n",
    "  predictions = classifier.predict(points_array)\n",
    "\n",
    "  # Example result: \n",
    "  predictions = [-1, -1, 1, -1, 1, 1, 1, 1, 1]\n",
    "  #               ↑   ↑  ↑   ↑   ↑  ↑  ↑  ↑  ↑\n",
    "  #              pt1 pt2 pt3 pt4 pt5 pt6 pt7 pt8 pt9\n",
    "\n",
    "  What this means:\n",
    "  - Test point 1 (4.0, 1.0) → Predicted class: -1 (Setosa)\n",
    "  - Test point 2 (4.2, 1.0) → Predicted class: -1 (Setosa)\n",
    "  - Test point 3 (4.4, 1.0) → Predicted class: +1 (Versicolor)\n",
    "  - ...and so on\n",
    "\n",
    "  ---\n",
    "  Step 4: Reshape Back to Grid for Plotting\n",
    "\n",
    "  # Convert the flat list back to the original grid shape\n",
    "  predictions_grid = predictions.reshape(xx1.shape)\n",
    "\n",
    "  # Result:\n",
    "  predictions_grid = [[-1, -1,  1],    # Row 0: petal length 1.0\n",
    "                      [-1,  1,  1],    # Row 1: petal length 1.2\n",
    "                      [ 1,  1,  1]]    # Row 2: petal length 1.4\n",
    "\n",
    "  ---\n",
    "  Step 5: Plot the Results\n",
    "\n",
    "  # Create a contour plot that colors regions based on predictions\n",
    "  plt.contourf(xx1, xx2, predictions_grid, alpha=0.3, cmap=cmap)\n",
    "\n",
    "  What contourf does:\n",
    "  - Takes the grid coordinates (xx1, xx2) and the predictions\n",
    "  - Colors each grid cell based on the prediction value\n",
    "  - -1 predictions → Red regions\n",
    "  - +1 predictions → Blue regions\n",
    "  - The boundary between colors = decision boundary!\n",
    "\n",
    "  # Finally, plot your actual training data on top\n",
    "  for idx, cl in enumerate(np.unique(y)):\n",
    "      plt.scatter(x=X[y == cl, 0],      # Sepal length for this class\n",
    "                  y=X[y == cl, 1],      # Petal length for this class  \n",
    "                  alpha=0.8,\n",
    "                  c=colors[idx],         # Color for this class\n",
    "                  marker=markers[idx],   # Shape for this class\n",
    "                  label=f'Class{cl}')    # Legend label\n",
    "\n",
    "  ---\n",
    "  The Final Result\n",
    "\n",
    "  You get a plot where:\n",
    "  - Red background = \"If a flower had these measurements, I'd predict Setosa\"\n",
    "  - Blue background = \"If a flower had these measurements, I'd predict Versicolor\"\n",
    "  - Boundary line = Where the perceptron switches its prediction\n",
    "  - Actual dots = Your real training data points\n",
    "\n",
    "  This shows you visually how well your perceptron learned to separate the two types of\n",
    "  flowers!\n",
    "  ```\n",
    "\n"
   ]
  }
 ],
 "metadata": {
  "kernelspec": {
   "display_name": "raschka-ml",
   "language": "python",
   "name": "python3"
  },
  "language_info": {
   "codemirror_mode": {
    "name": "ipython",
    "version": 3
   },
   "file_extension": ".py",
   "mimetype": "text/x-python",
   "name": "python",
   "nbconvert_exporter": "python",
   "pygments_lexer": "ipython3",
   "version": "3.9.23"
  }
 },
 "nbformat": 4,
 "nbformat_minor": 4
}
